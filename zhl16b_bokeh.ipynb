{
 "cells": [
  {
   "cell_type": "code",
   "execution_count": 1,
   "metadata": {
    "scrolled": true
   },
   "outputs": [
    {
     "ename": "ModuleNotFoundError",
     "evalue": "No module named 'bokeh'",
     "output_type": "error",
     "traceback": [
      "\u001b[0;31m---------------------------------------------------------------------------\u001b[0m",
      "\u001b[0;31mModuleNotFoundError\u001b[0m                       Traceback (most recent call last)",
      "\u001b[0;32m<ipython-input-1-09ca62483b3d>\u001b[0m in \u001b[0;36m<module>\u001b[0;34m\u001b[0m\n\u001b[1;32m      2\u001b[0m \u001b[0;32mimport\u001b[0m \u001b[0mnumpy\u001b[0m\u001b[0;34m\u001b[0m\u001b[0;34m\u001b[0m\u001b[0m\n\u001b[1;32m      3\u001b[0m \u001b[0;32mimport\u001b[0m \u001b[0muntangle\u001b[0m\u001b[0;34m\u001b[0m\u001b[0;34m\u001b[0m\u001b[0m\n\u001b[0;32m----> 4\u001b[0;31m \u001b[0;32mfrom\u001b[0m \u001b[0mbokeh\u001b[0m\u001b[0;34m.\u001b[0m\u001b[0mplotting\u001b[0m \u001b[0;32mimport\u001b[0m \u001b[0mfigure\u001b[0m\u001b[0;34m,\u001b[0m \u001b[0moutput_notebook\u001b[0m\u001b[0;34m,\u001b[0m \u001b[0mshow\u001b[0m\u001b[0;34m\u001b[0m\u001b[0;34m\u001b[0m\u001b[0m\n\u001b[0m\u001b[1;32m      5\u001b[0m \u001b[0;34m\u001b[0m\u001b[0m\n\u001b[1;32m      6\u001b[0m \u001b[0moutput_notebook\u001b[0m\u001b[0;34m(\u001b[0m\u001b[0;34m)\u001b[0m\u001b[0;34m\u001b[0m\u001b[0;34m\u001b[0m\u001b[0m\n",
      "\u001b[0;31mModuleNotFoundError\u001b[0m: No module named 'bokeh'"
     ]
    }
   ],
   "source": [
    "import deco\n",
    "import numpy\n",
    "import untangle\n",
    "from bokeh.plotting import figure, output_notebook, show\n",
    "\n",
    "output_notebook()"
   ]
  },
  {
   "cell_type": "code",
   "execution_count": null,
   "metadata": {},
   "outputs": [],
   "source": [
    "# Globals\n",
    "settings = deco.deco_settings(\n",
    "    last_stop = 6,\n",
    "    gf_low = 0.1,\n",
    "    gf_high = 0.90)\n",
    "precision = numpy.float32\n",
    "profile_time_factor = 1.0\n",
    "sac_bottom = 18\n",
    "sac_deco = 15\n",
    "xml_file = \"profiles/2015_12_27T15_42_48.uddf\""
   ]
  },
  {
   "cell_type": "code",
   "execution_count": null,
   "metadata": {},
   "outputs": [],
   "source": [
    "doc = untangle.parse(xml_file)"
   ]
  },
  {
   "cell_type": "code",
   "execution_count": null,
   "metadata": {},
   "outputs": [],
   "source": [
    "mix_ctx = deco_mix.deco_mix_ctx()\n",
    "\n",
    "gasmixes = dict()\n",
    "\n",
    "imix = 0\n",
    "for mix in doc.uddf.gasdefinitions.mix:\n",
    "    try:\n",
    "        switchdepth = int(mix.switchdepth.cdata)\n",
    "    except:\n",
    "        switchdepth = 0\n",
    "    gasmixes.update({ mix['id']: {\n",
    "        'imix': imix,\n",
    "        'f_he': float(mix.he.cdata),\n",
    "        'f_o2': float(mix.o2.cdata),\n",
    "        'f_n2': 1 - float(mix.o2.cdata) - float(mix.he.cdata) }})\n",
    "    mix_ctx.set_mix(\n",
    "        imix,\n",
    "        deco_mix.deco_mix(f_o2 = float(mix.o2.cdata),\n",
    "        f_he = float(mix.he.cdata),\n",
    "        switch_depth = switchdepth,\n",
    "        enabled = True))\n",
    "    imix += 1\n",
    "\n",
    "#print(gasmixes)\n",
    "#print(mix_ctx)"
   ]
  },
  {
   "cell_type": "code",
   "execution_count": null,
   "metadata": {},
   "outputs": [],
   "source": [
    "# Initialize decompression context\n",
    "try:\n",
    "    p_surface_in = float(doc.uddf.profiledata.repetitiongroup.dive.informationbeforedive.surfacepressure.cdata) / 100000\n",
    "except:\n",
    "    p_surface_in = 1.0\n",
    "\n",
    "deco_ctx = deco.deco_zhl16b(\n",
    "    settings = settings,\n",
    "    mix_ctx = mix_ctx,\n",
    "    p_surface = p_surface_in,\n",
    "    salinity = 1.0)\n",
    "\n",
    "#print(deco_ctx)"
   ]
  },
  {
   "cell_type": "code",
   "execution_count": null,
   "metadata": {},
   "outputs": [],
   "source": [
    "dive_profile = deco_helper.profile(\n",
    "        runtime = 0,\n",
    "        ctx = deco_ctx,\n",
    "        maxentries = len(doc.uddf.profiledata.repetitiongroup.dive.samples.waypoint))\n",
    "\n",
    "# Read profile\n",
    "runtime = 0\n",
    "depth = 0\n",
    "lastruntime = 0\n",
    "lastdepth = 0\n",
    "for waypoint in doc.uddf.profiledata.repetitiongroup.dive.samples.waypoint:\n",
    "    try:\n",
    "        activemix = waypoint.switchmix['ref']\n",
    "        # eventually switch mix\n",
    "        dive_profile.ctx.mix_ctx.set_active_mix(gasmixes[activemix]['imix'])\n",
    "        #print(\"switch mix: %s\" % (dive_profile.ctx.mix_ctx.get_mix(dive_profile.ctx.mix_ctx.get_active_mix())))\n",
    "    except:\n",
    "        pass\n",
    "    \n",
    "    runtime = float(waypoint.divetime.cdata) / 60.0 * profile_time_factor\n",
    "    depth = float(waypoint.depth.cdata)\n",
    "\n",
    "    #print(\"runtime: %.1f min. depth: %.1f m lastdepth %.1f m\" % (runtime, depth, lastdepth))\n",
    "    \n",
    "    if (depth != 0 and runtime - lastruntime > 0):\n",
    "        #%lprun -s -m deco dive_profile.update(time = runtime - lastruntime, depth_begin = lastdepth, depth_end = depth, sac = sac_bottom)\n",
    "        dive_profile.update(\n",
    "            time = runtime - lastruntime,\n",
    "            depth_begin = lastdepth,\n",
    "            depth_end = depth,\n",
    "            sac = sac_bottom)\n",
    "                \n",
    "    lastruntime = runtime\n",
    "    lastdepth = depth\n",
    "\n",
    "# Strip data array to number of actually valid records\n",
    "dive_profile.strip()\n",
    "\n",
    "#print(dive_profile.di)\n",
    "#print(dive_profile.ctx.mix_ctx)"
   ]
  },
  {
   "cell_type": "code",
   "execution_count": null,
   "metadata": {},
   "outputs": [],
   "source": [
    "data = dive_profile.data"
   ]
  },
  {
   "cell_type": "code",
   "execution_count": null,
   "metadata": {},
   "outputs": [],
   "source": [
    "p = figure(\n",
    "    title = 'ZHL16B-GF {:d}/{:d}'.format(int(ctx.gf_low * 100), int(ctx.gf_high * 100)),\n",
    "    x_axis_label = 'Time in min.',\n",
    "    y_axis_label = 'Pressure in mfw / GF',\n",
    "    plot_width = 1024,\n",
    "    plot_height = 600)\n",
    "\n",
    "p.line(\n",
    "    data['time'], data['depth'],\n",
    "    legend = \"Depth\",\n",
    "    line_width = 1,\n",
    "    line_color = 'blue')\n",
    "\n",
    "p.line(\n",
    "    data['time'],\n",
    "    data['p_ceiling'] * 10 - 10,\n",
    "    legend = \"Ceiling\",\n",
    "    line_width = 2,\n",
    "    line_color = 'red')\n",
    "\n",
    "p.line(\n",
    "    data['time'],\n",
    "    data['gf_allowed'] * 100,\n",
    "    legend = \"Permitted GF\",\n",
    "    line_width = 2,\n",
    "    line_color = 'purple')\n",
    "\n",
    "p.line(\n",
    "    data['time'], \n",
    "    data['gf_current'] * 100,\n",
    "    legend = \"Current GF\",\n",
    "    line_width = 1,\n",
    "    line_color = 'purple')\n",
    "\n",
    "show()"
   ]
  }
 ],
 "metadata": {
  "kernelspec": {
   "display_name": "deco",
   "language": "python",
   "name": "deco"
  },
  "language_info": {
   "codemirror_mode": {
    "name": "ipython",
    "version": 3
   },
   "file_extension": ".py",
   "mimetype": "text/x-python",
   "name": "python",
   "nbconvert_exporter": "python",
   "pygments_lexer": "ipython3",
   "version": "3.6.7"
  }
 },
 "nbformat": 4,
 "nbformat_minor": 1
}
